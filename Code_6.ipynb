{
 "cells": [
  {
   "cell_type": "markdown",
   "metadata": {},
   "source": [
    "# Import Libraries"
   ]
  },
  {
   "cell_type": "code",
   "execution_count": 7,
   "metadata": {},
   "outputs": [],
   "source": [
    "################ WEB SCRAPING MODULES ############\n",
    "from selenium import webdriver\n",
    "from selenium.webdriver.common.by import By\n",
    "import bs4\n",
    "from fake_useragent import UserAgent\n",
    "import requests\n",
    "################ TIME MODLULES ###################\n",
    "import time\n",
    "import datetime\n",
    "############## DATA MANIPULATION MODULES #########\n",
    "import pandas as pd\n",
    "import numpy as np\n",
    "import re"
   ]
  },
  {
   "cell_type": "markdown",
   "metadata": {},
   "source": [
    "# Scrape links from [BioSpace News](https://www.biospace.com/news/)"
   ]
  },
  {
   "cell_type": "code",
   "execution_count": 9,
   "metadata": {},
   "outputs": [
    {
     "output_type": "stream",
     "name": "stdout",
     "text": [
      "\n",
      "Iteration 1\n",
      "############\n",
      "No. of links are:  106\n",
      "**************************************************\n",
      "No. of links are:  93\n",
      "**************************************************\n",
      "No. of links are:  93\n",
      "**************************************************\n",
      "No. of links are:  93\n",
      "**************************************************\n",
      "No. of links are:  93\n",
      "**************************************************\n"
     ]
    }
   ],
   "source": [
    "y=[]\n",
    "driver=webdriver.Chrome(executable_path=\"./chromedriver.exe\") # open Chrome driver/window\n",
    "search='+'.join(input('Search: ').split())\n",
    "print(search)\n",
    "for j in range(1,2):\n",
    "    print('Iteration',j)\n",
    "    print('############')\n",
    "    for i in range(1,6): \n",
    "        driver.get('https://www.biospace.com/news/{}/?Keywords={}'.format(i,search)) # open web page on Chrome window\n",
    "        source = driver.page_source\n",
    "        soup=bs4.BeautifulSoup(source, 'html.parser')\n",
    "        link=[i.get('href') for i in soup.find_all('a')]\n",
    "        print('No. of links are: ',len(link))\n",
    "        y.append(link)\n",
    "        time.sleep(5)\n",
    "        print('*'*50)"
   ]
  },
  {
   "cell_type": "code",
   "execution_count": 10,
   "metadata": {},
   "outputs": [],
   "source": [
    "# Normalize features\n",
    "y=[j for i in y for j in i]\n",
    "y=['https://www.biospace.com'+i for i in set(y)]"
   ]
  },
  {
   "cell_type": "code",
   "execution_count": 11,
   "metadata": {},
   "outputs": [],
   "source": [
    "k=[]\n",
    "for i in y:\n",
    "    if('https://www.biospace.com/article/releases/' in i):\n",
    "        k.append(i)"
   ]
  },
  {
   "cell_type": "code",
   "execution_count": 12,
   "metadata": {},
   "outputs": [
    {
     "output_type": "stream",
     "name": "stdout",
     "text": [
      "No of links scraped = 85\n"
     ]
    }
   ],
   "source": [
    "print('No of links scraped =',len(k))"
   ]
  },
  {
   "cell_type": "code",
   "execution_count": 13,
   "metadata": {},
   "outputs": [
    {
     "output_type": "execute_result",
     "data": {
      "text/plain": [
       "['https://www.biospace.com/article/releases/expert-independent-study-finds-novel-aerolase-laser-provides-parity-efficacy-to-and-quot-gold-standard-and-quot-psoriasis-therapy-while-delivering-other-advantages/',\n",
       " 'https://www.biospace.com/article/releases/lilly-reports-strong-fourth-quarter-and-full-year-2020-financial-results/',\n",
       " 'https://www.biospace.com/article/releases/mms-holdings-joins-decentralized-trials-and-amp-research-alliance-dtra-as-a-founding-member-to-accelerate-the-adoption-of-patient-focused-clinical-trials/',\n",
       " 'https://www.biospace.com/article/releases/mentice-s-ceo-goeran-malmberg-to-present-the-company-s-year-end-2020-report-at-a-webcast-conference-call-on-february-4-at-9-30-cet/',\n",
       " 'https://www.biospace.com/article/releases/davita-inc-schedules-4th-quarter-2020-investor-conference-call/',\n",
       " 'https://www.biospace.com/article/releases/orexo-expects-fda-filing-of-ox124-mid-2022/',\n",
       " 'https://www.biospace.com/article/releases/bioasis-announces-200-000-non-brokered-private-placement/',\n",
       " 'https://www.biospace.com/article/releases/xtelligent-healthcare-media-launches-subscription-service-to-its-research-reports/',\n",
       " 'https://www.biospace.com/article/releases/bostongene-announces-publications-in-two-scientific-journals-in-collaboration-with-leading-cancer-institute/',\n",
       " 'https://www.biospace.com/article/releases/moleculin-announces-reverse-stock-split/',\n",
       " 'https://www.biospace.com/article/releases/thermo-fisher-scientific-named-and-quot-best-place-to-work-for-lgbtq-equality-and-quot-for-sixth-consecutive-year/',\n",
       " 'https://www.biospace.com/article/releases/global-virus-network-gvn-adds-four-preeminent-academic-institutions-to-strengthen-global-collaboration-in-viral-research-and-response-to-pandemics/',\n",
       " 'https://www.biospace.com/article/releases/biondvax-announces-pricing-of-12-1-million-follow-on-underwritten-offering-of-american-depositary-shares/',\n",
       " 'https://www.biospace.com/article/releases/puma-biotechnology-presents-interim-results-from-the-phase-ii-summit-trial-of-neratinib-for-egfr-exon-18-mutated-metastatic-non-small-cell-lung-cancer-at-wclc-2020/',\n",
       " 'https://www.biospace.com/article/releases/statement-on-the-european-medicines-agency-s-recommended-authorization-of-the-astrazeneca-covid-19-vaccine/',\n",
       " 'https://www.biospace.com/article/releases/greenwich-lifesciences-announces-exercise-and-closing-of-underwriter-s-over-allotment-option/',\n",
       " 'https://www.biospace.com/article/releases/merck-presents-results-from-head-to-head-phase-3-keynote-598-trial-evaluating-keytruda-pembrolizumab-in-combination-with-ipilimumab-versus-keytruda-monotherapy-in-certain-patients-with-metastatic-non-small-cell-lung-cancer/',\n",
       " 'https://www.biospace.com/article/releases/neutrisci-closes-financing/',\n",
       " 'https://www.biospace.com/article/releases/veteran-cardiology-medtech-executive-tim-o-malley-joins-imedrix-mobile-cardiology-as-ceo/',\n",
       " 'https://www.biospace.com/article/releases/chop-researchers-develop-potentially-safer-more-effective-gene-therapy-vector-for-blood-disorders/',\n",
       " 'https://www.biospace.com/article/releases/exacis-biotherapeutics-announces-key-addition-to-its-executive-leadership-team-with-dirk-huebner-md-joining-as-chief-medical-officer/',\n",
       " 'https://www.biospace.com/article/releases/decibel-therapeutics-and-invitae-announce-launch-of-amplify-genetic-testing-program/',\n",
       " 'https://www.biospace.com/article/releases/cenobamate-receives-positive-chmp-opinion-for-adjunctive-treatment-of-focal-onset-partial-onset-seizures/',\n",
       " 'https://www.biospace.com/article/releases/karyopharm-receives-positive-chmp-opinion-for-nexpovio-selinexor-for-the-treatment-of-patients-with-refractory-multiple-myeloma/',\n",
       " 'https://www.biospace.com/article/releases/researchers-probe-new-territory-in-treating-patients-with-lung-cancer-during-covid-19-pandemic/',\n",
       " 'https://www.biospace.com/article/releases/new-biomarker-analyses-from-patritumab-deruxtecan-phase-1-study-in-patients-with-egfr-mutated-nsclc-presented-at-wclc-2020/',\n",
       " 'https://www.biospace.com/article/releases/datopotamab-deruxtecan-and-enhertu-show-promising-early-clinical-activity-in-patients-with-advanced-non-small-cell-lung-cancer/',\n",
       " 'https://www.biospace.com/article/releases/hmp-global-to-acquire-two-prominent-addiction-education-events-from-c4-recovery-foundation/',\n",
       " 'https://www.biospace.com/article/releases/spectrum-dynamics-medical-lawsuit-against-ge-allowed-to-continue-jury-trial-may-proceed/',\n",
       " 'https://www.biospace.com/article/releases/amgen-announces-breakthrough-therapy-designation-granted-for-sotorasib-in-china/',\n",
       " 'https://www.biospace.com/article/releases/dwhp-announces-expiration-and-final-results-of-its-cash-tender-offer-for-all-outstanding-ordinary-shares-of-parnell-pharmaceuticals-holdings-ltd-/',\n",
       " 'https://www.biospace.com/article/releases/synergy-disc-announces-enrollment-of-first-patient-in-us-ide-clinical-trial/',\n",
       " 'https://www.biospace.com/article/releases/cti-biopharma-announces-inducement-grants-under-nasdaq-listing-rule-5635-c-4-jan-29-2021/',\n",
       " 'https://www.biospace.com/article/releases/yield10-bioscience-announces-proposed-public-offering-of-common-stock/',\n",
       " 'https://www.biospace.com/article/releases/vesey-street-capital-partners-backed-qualitymetric-adds-john-hart-as-chief-financial-officer/',\n",
       " 'https://www.biospace.com/article/releases/rigel-awarded-16-5-million-from-u-s-department-of-defense-for-phase-3-clinical-trial-of-fostamatinib-in-covid-19-patients/',\n",
       " 'https://www.biospace.com/article/releases/innovation-pharmaceuticals-phase-2-clinical-trial-of-brilacidin-for-treating-covid-19-scheduled-to-begin-next-week/',\n",
       " 'https://www.biospace.com/article/releases/american-medical-association-issues-new-cpt-code-for-neovasc-reducer-procedure/',\n",
       " 'https://www.biospace.com/article/releases/amarin-receives-positive-chmp-opinion-for-icosapent-ethyl-for-cardiovascular-risk-reduction/',\n",
       " 'https://www.biospace.com/article/releases/takeda-completes-sale-of-select-otc-and-non-core-assets-to-hypera-pharma/',\n",
       " 'https://www.biospace.com/article/releases/roy-proujansky-m-d-and-irving-nachamkin-drph-join-rheonix-board-/',\n",
       " 'https://www.biospace.com/article/releases/aim-immunotech-enters-into-agreement-for-proposed-intranasal-safety-study-of-ampligenaim-is-working-to-develop-an-effective-covid-19-intranasal-therapy/',\n",
       " 'https://www.biospace.com/article/releases/seelos-therapeutics-announces-issuance-of-a-patent-for-trehalose-sls-005-in-australia/',\n",
       " 'https://www.biospace.com/article/releases/neuronetics-announces-pricing-of-75-million-public-offering-of-common-stock-jan-29-2021/',\n",
       " 'https://www.biospace.com/article/releases/angle-plc-parsortix-demonstrates-high-capture-rate-of-ctcs/',\n",
       " 'https://www.biospace.com/article/releases/outlook-therapeutics-increases-previously-announced-bought-deal-offering-of-common-stock-to-35-0-million/',\n",
       " 'https://www.biospace.com/article/releases/medtronic-receives-fda-approval-of-diamondtemp-ablation-system-for-the-treatment-of-patients-with-atrial-fibrillation/',\n",
       " 'https://www.biospace.com/article/releases/sensei-biotherapeutics-appoints-deneen-vojta-m-d-to-its-board-of-directors/',\n",
       " 'https://www.biospace.com/article/releases/janone-prices-6-0-million-common-stock-offering/',\n",
       " 'https://www.biospace.com/article/releases/scopus-biopharma-announces-closing-of-9-million-follow-on-public-offering/',\n",
       " 'https://www.biospace.com/article/releases/life-line-screening-accelerates-its-clinical-research-transformation-by-appointing-matthew-maxwell-as-chief-of-clinical-research-strategy-/',\n",
       " 'https://www.biospace.com/article/releases/orchard-therapeutics-appoints-braden-parker-as-chief-commercial-officercommercial-launch-of-libmeldy-in-europe-on-track-for-1h-2021/',\n",
       " 'https://www.biospace.com/article/releases/new-amivantamab-data-from-chrysalis-study-show-robust-clinical-activity-and-durable-responses-in-patients-with-metastatic-or-unresectable-non-small-cell-lung-cancer-and-egfr-exon-20-insertion-mutations/',\n",
       " 'https://www.biospace.com/article/releases/puretech-adds-bharatt-chowrira-puretech-s-president-and-chief-of-business-and-strategy-to-board-of-directors/',\n",
       " 'https://www.biospace.com/article/releases/vyne-therapeutics-announces-closing-of-50-million-registered-direct-offering-of-common-stock-and-provides-corporate-update/',\n",
       " 'https://www.biospace.com/article/releases/progress-update-on-medmira-s-covid-19-product-family/',\n",
       " 'https://www.biospace.com/article/releases/biogen-and-eisai-announce-fda-s-3-month-extension-of-review-period-for-the-biologics-license-application-for-aducanumab/',\n",
       " 'https://www.biospace.com/article/releases/new-number-of-shares-and-votes-in-moberg-pharma-ab-publ-jan-29-2021/',\n",
       " 'https://www.biospace.com/article/releases/tetra-bio-pharma-announces-fda-clearance-on-ind-allowing-u-s-reborn1-tm-clinical-trial-to-commence/',\n",
       " 'https://www.biospace.com/article/releases/orasure-subsidiary-dna-genotek-s-omnigene-oral-included-in-eua-granted-to-ambry-genetics-for-use-in-covid-19-rt-pcr-saliva-testthis-is-the-eighth-eua-to-include-a-self-collection-device-from-dna-genotek/',\n",
       " 'https://www.biospace.com/article/releases/stericycle-inc-resolves-epa-investigation-in-utah/',\n",
       " 'https://www.biospace.com/article/releases/turning-point-therapeutics-reports-updated-interim-data-from-registrational-phase-2-trident-1-study-of-repotrectinib-in-patients-with-ros1-positive-tki-naive-non-small-cell-lung-cancer/',\n",
       " 'https://www.biospace.com/article/releases/moberg-pharma-announcement-of-terms-for-the-fully-guaranteed-rights-issue-in-oncozenge-timetable-for-the-listing-and-record-date-for-lex-asea/',\n",
       " 'https://www.biospace.com/article/releases/immunogen-announces-conference-call-to-discuss-its-2020-operating-results/',\n",
       " 'https://www.biospace.com/article/releases/ontozry-cenobamate-receives-positive-chmp-opinion-for-the-adjunctive-treatment-of-uncontrolled-focal-onset-seizures-in-adults-/',\n",
       " 'https://www.biospace.com/article/releases/immunologist-and-clinical-transplant-expert-dolly-b-tyan-phd-joins-aditxt-as-senior-vp-of-clinical-development-transplantation/',\n",
       " 'https://www.biospace.com/article/releases/liberty-health-sciences-reports-fiscal-year-2021-third-quarter-financial-results/',\n",
       " 'https://www.biospace.com/article/releases/oncxerna-therapeutics-appoints-colleen-mockbee-as-chief-development-officer-and-senior-vice-president-of-regulatory-affairs/',\n",
       " 'https://www.biospace.com/article/releases/johnson-and-amp-johnson-announces-single-shot-janssen-covid-19-vaccine-candidate-met-primary-endpoints-in-interim-analysis-of-its-phase-3-ensemble-trial/',\n",
       " 'https://www.biospace.com/article/releases/tagrisso-extended-disease-free-survival-regardless-of-prior-adjuvant-chemotherapy-in-early-stage-egfr-mutated-lung-cancer-/',\n",
       " 'https://www.biospace.com/article/releases/medisca-announces-further-measures-reinforcing-its-commitment-to-a-transparent-and-compliant-pharmaceutical-drug-supply-chain/',\n",
       " 'https://www.biospace.com/article/releases/phase-1-drug-candidate-glr2007-developed-by-gan-and-amp-lee-has-been-granted-fast-track-designation-by-the-u-s-fda/',\n",
       " 'https://www.biospace.com/article/releases/new-study-by-dr-steven-quay-concludes-that-sars-cov-2-came-from-a-laboratory/',\n",
       " 'https://www.biospace.com/article/releases/banjo-health-inc-announces-partnership-with-elmcrx-solutions/',\n",
       " 'https://www.biospace.com/article/releases/ehealth-inc-announces-preliminary-results-for-the-fourth-quarter-and-fiscal-year-2020/',\n",
       " 'https://www.biospace.com/article/releases/humanigen-completes-enrollment-in-phase-3-study-of-lenzilumab-in-hospitalized-patients-with-covid-19/',\n",
       " 'https://www.biospace.com/article/releases/breaking-notice-rosen-a-leading-law-firm-encourages-astrazeneca-plc-investors-with-large-losses-to-secure-counsel-before-important-deadline-azn/',\n",
       " 'https://www.biospace.com/article/releases/kioxia-accelerates-analysis-of-large-volume-data-in-life-science-research-outcomes/',\n",
       " 'https://www.biospace.com/article/releases/redhill-biopharma-announces-positive-dsmb-futility-review-for-phase-2-3-covid-19-study-of-opaganib/',\n",
       " 'https://www.biospace.com/article/releases/large-clinical-study-presented-at-sts-2021-finds-79-percent-survival-rate-with-impella-5-5-with-smartassist/',\n",
       " 'https://www.biospace.com/article/releases/catabasis-pharmaceuticals-announces-acquisition-of-quellis-biosciences-inc-/',\n",
       " 'https://www.biospace.com/article/releases/incyte-announces-positive-chmp-opinion-for-pemigatinib-for-the-treatment-of-adults-with-previously-treated-unresectable-locally-advanced-or-metastatic-cholangiocarcinoma-with-a-fibroblast-growth-factor-receptor-2-fgfr2-fusion-or-rearrangement/',\n",
       " 'https://www.biospace.com/article/releases/novan-regains-compliance-with-nasdaq-minimum-bid-price-requirement/',\n",
       " 'https://www.biospace.com/article/releases/dr-reddy-s-q3-and-amp-9m-fy21-financial-results/',\n",
       " 'https://www.biospace.com/article/releases/senseonics-holdings-announces-closing-of-115-0-million-bought-deal-offering-of-common-stock-and-full-exercise-of-the-option-to-purchase-additional-shares/']"
      ]
     },
     "metadata": {},
     "execution_count": 13
    }
   ],
   "source": [
    "k"
   ]
  },
  {
   "cell_type": "code",
   "execution_count": 14,
   "metadata": {},
   "outputs": [],
   "source": [
    "pd.DataFrame(k,columns=['Links']).to_csv('BioSpace_Links.csv',index=False)"
   ]
  },
  {
   "cell_type": "code",
   "execution_count": null,
   "metadata": {},
   "outputs": [],
   "source": []
  }
 ],
 "metadata": {
  "kernelspec": {
   "name": "python3",
   "display_name": "Python 3.8.5 64-bit",
   "metadata": {
    "interpreter": {
     "hash": "2db524e06e9f5f4ffedc911c917cb75e12dbc923643829bf417064a77eb14d37"
    }
   }
  },
  "language_info": {
   "codemirror_mode": {
    "name": "ipython",
    "version": 3
   },
   "file_extension": ".py",
   "mimetype": "text/x-python",
   "name": "python",
   "nbconvert_exporter": "python",
   "pygments_lexer": "ipython3",
   "version": "3.8.5-final"
  }
 },
 "nbformat": 4,
 "nbformat_minor": 2
}