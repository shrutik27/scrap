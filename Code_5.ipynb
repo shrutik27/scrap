{
 "cells": [
  {
   "cell_type": "code",
   "execution_count": 2,
   "metadata": {},
   "outputs": [],
   "source": [
    "# NOTEBOOK TO BE RUN EVERY MONDAY"
   ]
  },
  {
   "cell_type": "markdown",
   "metadata": {},
   "source": [
    "# Import Libraries"
   ]
  },
  {
   "cell_type": "code",
   "execution_count": 3,
   "metadata": {},
   "outputs": [],
   "source": [
    "################ WEB SCRAPING MODULES ############\n",
    "from selenium import webdriver\n",
    "from selenium.webdriver.common.by import By\n",
    "from webdriver_manager.chrome import ChromeDriverManager\n",
    "import bs4\n",
    "from fake_useragent import UserAgent\n",
    "import requests\n",
    "################ TIME MODLULES ###################\n",
    "import time\n",
    "import datetime\n",
    "############## DATA MANIPULATION MODULES #########\n",
    "import pandas as pd\n",
    "import numpy as np\n",
    "import re"
   ]
  },
  {
   "cell_type": "markdown",
   "metadata": {},
   "source": [
    "# Define Functions"
   ]
  },
  {
   "cell_type": "code",
   "execution_count": 4,
   "metadata": {},
   "outputs": [],
   "source": [
    "def get_links_and_text():\n",
    "    link=[i.get('href') for i in soup.find_all('a')]\n",
    "    text=[i.text for i in soup.find_all('a')]\n",
    "    #############################################################\n",
    "    INDEX_1=[i for i in range(len(text)) if '$' in text[i]]\n",
    "    #############################################################\n",
    "    link=[link[i] for i in INDEX_1]\n",
    "    text=[text[i] for i in INDEX_1]\n",
    "    return link,text"
   ]
  },
  {
   "cell_type": "code",
   "execution_count": 5,
   "metadata": {},
   "outputs": [],
   "source": [
    "def create_features(z):\n",
    "    amount=[]\n",
    "    mag=[]\n",
    "    for i,x in enumerate(z):\n",
    "        x=re.sub('(?<=\\d),(?=\\d)', '',x) # replace comma b/w integers $2,800 --> $2800\n",
    "        x=x.replace(\". \", \" \").replace(\", \",\" \") # Remove all fullstops from string, except if it's between digits\n",
    "        x=re.sub('[^A-Za-z0-9$.]+', ' ', x) # remove all special characters except $ and .\n",
    "        a=x[x.index('$'):].split()[0][-1],x[x.index('$'):].split()[0][1:-1]\n",
    "        amount.append(float(a[1]))\n",
    "        if(a[0].lower()=='m'):\n",
    "            mag.append('Millions')\n",
    "        elif(a[0].lower()=='b'):\n",
    "            mag.append('Billions')\n",
    "        else:\n",
    "            mag.append(np.nan)\n",
    "    currency=['USD' for i in range(len(z))]\n",
    "    return amount,mag,currency"
   ]
  },
  {
   "cell_type": "markdown",
   "metadata": {},
   "source": [
    "# Scrape [FiercePharma](https://www.fiercepharma.com/) "
   ]
  },
  {
   "cell_type": "code",
   "execution_count": 6,
   "metadata": {},
   "outputs": [
    {
     "output_type": "stream",
     "name": "stderr",
     "text": [
      "[WDM] - Current google-chrome version is 88.0.4324\n",
      "[WDM] - Get LATEST driver version for 88.0.4324\n",
      " \n",
      "[WDM] - Driver [C:\\Users\\Lenovo\\.wdm\\drivers\\chromedriver\\win32\\88.0.4324.96\\chromedriver.exe] found in cache\n",
      "Iteration 1\n",
      "############\n",
      "No. of links and text are:  2 2\n",
      "**************************************************\n",
      "No. of links and text are:  0 0\n",
      "**************************************************\n",
      "No. of links and text are:  0 0\n",
      "**************************************************\n",
      "No. of links and text are:  0 0\n",
      "**************************************************\n",
      "No. of links and text are:  0 0\n",
      "**************************************************\n",
      "Iteration 2\n",
      "############\n",
      "No. of links and text are:  2 2\n",
      "**************************************************\n",
      "No. of links and text are:  0 0\n",
      "**************************************************\n",
      "No. of links and text are:  0 0\n",
      "**************************************************\n",
      "No. of links and text are:  0 0\n",
      "**************************************************\n",
      "No. of links and text are:  0 0\n",
      "**************************************************\n",
      "Iteration 3\n",
      "############\n",
      "No. of links and text are:  2 2\n",
      "**************************************************\n",
      "No. of links and text are:  0 0\n",
      "**************************************************\n",
      "No. of links and text are:  0 0\n",
      "**************************************************\n",
      "No. of links and text are:  0 0\n",
      "**************************************************\n",
      "No. of links and text are:  0 0\n",
      "**************************************************\n",
      "Iteration 4\n",
      "############\n",
      "No. of links and text are:  2 2\n",
      "**************************************************\n",
      "No. of links and text are:  0 0\n",
      "**************************************************\n",
      "No. of links and text are:  0 0\n",
      "**************************************************\n",
      "No. of links and text are:  0 0\n",
      "**************************************************\n",
      "No. of links and text are:  0 0\n",
      "**************************************************\n"
     ]
    }
   ],
   "source": [
    "driver = webdriver.Chrome(ChromeDriverManager().install()) # open Chrome driver/window\n",
    "y,z=[],[]\n",
    "# Scrape links and headlines from first 5 pages of FiercePharma\n",
    "# Multiple iterations(5) are done to eliminate any chances of error\n",
    "for j in range(1,5):\n",
    "    print('Iteration',j)\n",
    "    print('############')\n",
    "    for i in range(1,6):\n",
    "        driver.get('https://www.fiercepharma.com/?page={}'.format(i)) # open web page on Chrome window\n",
    "        source = driver.page_source\n",
    "        soup=bs4.BeautifulSoup(source, 'html.parser')\n",
    "        link,text=get_links_and_text()\n",
    "        print('No. of links and text are: ',len(link),len(text))\n",
    "        y.append(link)\n",
    "        z.append(text)\n",
    "        time.sleep(5)\n",
    "        print('*'*50)"
   ]
  },
  {
   "cell_type": "code",
   "execution_count": 7,
   "metadata": {},
   "outputs": [],
   "source": [
    "# Normalize features\n",
    "y=[j for i in y for j in i]\n",
    "z=[j for i in z for j in i]\n",
    "# Get Amount from headlines/title\n",
    "amount,mag,currency=create_features(z)"
   ]
  },
  {
   "cell_type": "code",
   "execution_count": 8,
   "metadata": {},
   "outputs": [
    {
     "output_type": "stream",
     "name": "stdout",
     "text": [
      "Number of articles to parse = 8\n",
      "Article 0\n",
      "Article 1\n",
      "Article 2\n",
      "Article 3\n",
      "Article 4\n",
      "Article 5\n",
      "Article 6\n",
      "Article 7\n"
     ]
    }
   ],
   "source": [
    "# Parse each article in DataFrame and scrape Fund type, dates, investors and series type\n",
    "investors=[]\n",
    "series=[]\n",
    "sector=[]\n",
    "dates=[]\n",
    "sector_list=[' Therapeutics',' Biopharma',' Pharma',' Biotherapeutics',' BioTherapeutics',' Inc',\n",
    "             ' Pharmaceuticals',' Bioinformatics','Dx',' Biotics',' Biotechnology',' Diagnostics',' Ltd']\n",
    "print('Number of articles to parse =',len(y))\n",
    "for j,url in enumerate(y):\n",
    "    print('Article',j)\n",
    "    driver.get(url) # open web page on Chrome window\n",
    "    source = driver.page_source\n",
    "    soup=bs4.BeautifulSoup(source, 'html.parser')\n",
    "    dates.append(soup.find('time').text)\n",
    "    for script in soup([\"script\", \"style\"]):\n",
    "        script.extract()    \n",
    "    a = soup.get_text()\n",
    "    a=\" \".join(a.split())\n",
    "    a=re.sub('[^A-Za-z0-9.]+', ' ', a)\n",
    "    investors.append([i for i in a.split('.') if bool(re.search('investors ',i.lower()))==True])\n",
    "    series.append([i.lower()[i.lower().find('series'):i.lower().find('series')+8] for i in a.split('.') if i.lower().find('series')!=-1])\n",
    "    sector.append([a.split(i)[0].split()[-1].strip()+\" \"+i for i in sector_list if i in a])"
   ]
  },
  {
   "cell_type": "code",
   "execution_count": 9,
   "metadata": {},
   "outputs": [],
   "source": [
    "# Normalize investors and series type features\n",
    "series2=[]\n",
    "def most_frequent(List): \n",
    "    return max(set(List), key = List.count) \n",
    "\n",
    "for i in range(len(investors)):\n",
    "    if(sector[i]==[]):\n",
    "        sector[i]=np.nan\n",
    "    if(investors[i]==[]):\n",
    "        investors[i]=np.nan    \n",
    "\n",
    "for i in series:\n",
    "    try:\n",
    "        series2.append(most_frequent(i))\n",
    "    except:\n",
    "        series2.append(np.nan)"
   ]
  },
  {
   "cell_type": "code",
   "execution_count": 10,
   "metadata": {},
   "outputs": [],
   "source": [
    "# Create DataFrame from scraped features\n",
    "df=pd.DataFrame(zip(sector,dates,series2,investors,currency,mag,amount),\n",
    "                columns=['Name of Fund','Year Funded','Fund Type','Fund Manager','Currency','Magnitude','Amount of Funding'])"
   ]
  },
  {
   "cell_type": "code",
   "execution_count": 11,
   "metadata": {},
   "outputs": [],
   "source": [
    "# get year from date\n",
    "df['Year Funded']=df['Year Funded'].apply(lambda x: x.split(',')[1][:5])\n",
    "# Make values NaN in column \"Fund Type\" if not list allowed_vals\n",
    "allowed_vals=['series b', 'series d', 'series a', 'series c','series e']\n",
    "df['Fund Type'][~df['Fund Type'].isin(allowed_vals)] = np.nan\n",
    "# Make values NaN in column \"Magnitude\" if not in list allowed_vals\n",
    "allowed_vals=['Million','Billion','Millions','Billions']\n",
    "df['Magnitude'][~df['Magnitude'].isin(allowed_vals)] = np.nan"
   ]
  },
  {
   "cell_type": "code",
   "execution_count": 12,
   "metadata": {},
   "outputs": [],
   "source": [
    "# Make values NaN in column \"Amount of Funding\" if not a float\n",
    "def is_integer(n):\n",
    "    try:\n",
    "        float(n)\n",
    "    except ValueError:\n",
    "        return False\n",
    "    else:\n",
    "        return float(n).is_integer()\n",
    "for i in range(df.shape[0]):\n",
    "    if(is_integer(df.iloc[i,-1])!=True):\n",
    "        df.iloc[i,-1]=np.nan"
   ]
  },
  {
   "cell_type": "markdown",
   "metadata": {},
   "source": [
    "## Save Output"
   ]
  },
  {
   "cell_type": "code",
   "execution_count": 13,
   "metadata": {},
   "outputs": [],
   "source": [
    "from datetime import date\n",
    "name='Funding Rounds FiercePharma-'+str(date.today())+'.xlsx'\n",
    "df.to_excel(name,index=False)\n",
    "df=pd.read_excel(name)\n",
    "df=df.drop_duplicates()\n",
    "df.to_excel(name,index=False)"
   ]
  },
  {
   "cell_type": "code",
   "execution_count": 14,
   "metadata": {},
   "outputs": [
    {
     "output_type": "execute_result",
     "data": {
      "text/plain": [
       "            Name of Fund  Year Funded  Fund Type  Fund Manager Currency  \\\n",
       "0  ['Marketing  Pharma']         2021        NaN           NaN      USD   \n",
       "1  ['Marketing  Pharma']         2021        NaN           NaN      USD   \n",
       "\n",
       "  Magnitude  Amount of Funding  \n",
       "0  Millions                871  \n",
       "1       NaN                  1  "
      ],
      "text/html": "<div>\n<style scoped>\n    .dataframe tbody tr th:only-of-type {\n        vertical-align: middle;\n    }\n\n    .dataframe tbody tr th {\n        vertical-align: top;\n    }\n\n    .dataframe thead th {\n        text-align: right;\n    }\n</style>\n<table border=\"1\" class=\"dataframe\">\n  <thead>\n    <tr style=\"text-align: right;\">\n      <th></th>\n      <th>Name of Fund</th>\n      <th>Year Funded</th>\n      <th>Fund Type</th>\n      <th>Fund Manager</th>\n      <th>Currency</th>\n      <th>Magnitude</th>\n      <th>Amount of Funding</th>\n    </tr>\n  </thead>\n  <tbody>\n    <tr>\n      <th>0</th>\n      <td>['Marketing  Pharma']</td>\n      <td>2021</td>\n      <td>NaN</td>\n      <td>NaN</td>\n      <td>USD</td>\n      <td>Millions</td>\n      <td>871</td>\n    </tr>\n    <tr>\n      <th>1</th>\n      <td>['Marketing  Pharma']</td>\n      <td>2021</td>\n      <td>NaN</td>\n      <td>NaN</td>\n      <td>USD</td>\n      <td>NaN</td>\n      <td>1</td>\n    </tr>\n  </tbody>\n</table>\n</div>"
     },
     "metadata": {},
     "execution_count": 14
    }
   ],
   "source": [
    "df"
   ]
  },
  {
   "cell_type": "markdown",
   "metadata": {},
   "source": [
    "# Scrape [FierceBiotech](https://www.fiercebiotech.com/) "
   ]
  },
  {
   "cell_type": "code",
   "execution_count": 15,
   "metadata": {},
   "outputs": [
    {
     "output_type": "stream",
     "name": "stdout",
     "text": [
      "Iteration 1\n",
      "############\n",
      "No. of links and text are:  2 2\n",
      "**************************************************\n",
      "No. of links and text are:  2 2\n",
      "**************************************************\n",
      "No. of links and text are:  3 3\n",
      "**************************************************\n",
      "No. of links and text are:  4 4\n",
      "**************************************************\n",
      "No. of links and text are:  2 2\n",
      "**************************************************\n",
      "Iteration 2\n",
      "############\n",
      "No. of links and text are:  2 2\n",
      "**************************************************\n",
      "No. of links and text are:  2 2\n",
      "**************************************************\n",
      "No. of links and text are:  3 3\n",
      "**************************************************\n",
      "No. of links and text are:  4 4\n",
      "**************************************************\n",
      "No. of links and text are:  2 2\n",
      "**************************************************\n",
      "Iteration 3\n",
      "############\n",
      "No. of links and text are:  2 2\n",
      "**************************************************\n",
      "No. of links and text are:  2 2\n",
      "**************************************************\n",
      "No. of links and text are:  3 3\n",
      "**************************************************\n",
      "No. of links and text are:  4 4\n",
      "**************************************************\n",
      "No. of links and text are:  2 2\n",
      "**************************************************\n",
      "Iteration 4\n",
      "############\n",
      "No. of links and text are:  2 2\n",
      "**************************************************\n",
      "No. of links and text are:  2 2\n",
      "**************************************************\n",
      "No. of links and text are:  3 3\n",
      "**************************************************\n",
      "No. of links and text are:  4 4\n",
      "**************************************************\n",
      "No. of links and text are:  2 2\n",
      "**************************************************\n"
     ]
    }
   ],
   "source": [
    "y,z=[],[]\n",
    "# Scrape links and headlines from first 5 pages of FierceBiotech\n",
    "# Multiple iterations(5) are done to eliminate any chances of error\n",
    "for j in range(1,5):\n",
    "    print('Iteration',j)\n",
    "    print('############')\n",
    "    for i in range(1,6):\n",
    "        driver.get('https://www.fiercebiotech.com/?page={}'.format(i)) # open web page on Chrome window\n",
    "        source = driver.page_source\n",
    "        soup=bs4.BeautifulSoup(source, 'html.parser')\n",
    "        link,text=get_links_and_text()\n",
    "        print('No. of links and text are: ',len(link),len(text))\n",
    "        y.append(link)\n",
    "        z.append(text)\n",
    "        time.sleep(5)\n",
    "        print('*'*50)"
   ]
  },
  {
   "cell_type": "code",
   "execution_count": 16,
   "metadata": {},
   "outputs": [],
   "source": [
    "# Normalize features\n",
    "y=[j for i in y for j in i]\n",
    "z=[j for i in z for j in i]\n",
    "# Get Amount from headlines/title\n",
    "amount,mag,currency=create_features(z)"
   ]
  },
  {
   "cell_type": "code",
   "execution_count": 17,
   "metadata": {},
   "outputs": [
    {
     "output_type": "stream",
     "name": "stdout",
     "text": [
      "Number of articles to parse = 52\n",
      "Article 0\n",
      "Article 1\n",
      "Article 2\n",
      "Article 3\n",
      "Article 4\n",
      "Article 5\n",
      "Article 6\n",
      "Article 7\n",
      "Article 8\n",
      "Article 9\n",
      "Article 10\n",
      "Article 11\n",
      "Article 12\n",
      "Article 13\n",
      "Article 14\n",
      "Article 15\n",
      "Article 16\n",
      "Article 17\n",
      "Article 18\n",
      "Article 19\n",
      "Article 20\n",
      "Article 21\n",
      "Article 22\n",
      "Article 23\n",
      "Article 24\n",
      "Article 25\n",
      "Article 26\n",
      "Article 27\n",
      "Article 28\n",
      "Article 29\n",
      "Article 30\n",
      "Article 31\n",
      "Article 32\n",
      "Article 33\n",
      "Article 34\n",
      "Article 35\n",
      "Article 36\n",
      "Article 37\n",
      "Article 38\n",
      "Article 39\n",
      "Article 40\n",
      "Article 41\n",
      "Article 42\n",
      "Article 43\n",
      "Article 44\n",
      "Article 45\n",
      "Article 46\n",
      "Article 47\n",
      "Article 48\n",
      "Article 49\n",
      "Article 50\n",
      "Article 51\n"
     ]
    }
   ],
   "source": [
    "# Parse each article in DataFrame and scrape Fund type, dates, investors and series type\n",
    "investors=[]\n",
    "series=[]\n",
    "sector=[]\n",
    "dates=[]\n",
    "sector_list=[' Therapeutics',' Biopharma',' Pharma',' Biotherapeutics',' BioTherapeutics',' Inc',\n",
    "             ' Pharmaceuticals',' Bioinformatics','Dx',' Biotics',' Biotechnology',' Diagnostics',' Ltd']\n",
    "print('Number of articles to parse =',len(y))\n",
    "for j,url in enumerate(y):\n",
    "    print('Article',j)\n",
    "    driver.get(url) # open web page on Chrome window\n",
    "    source = driver.page_source\n",
    "    soup=bs4.BeautifulSoup(source, 'html.parser')\n",
    "    dates.append(soup.find('time').text)\n",
    "    for script in soup([\"script\", \"style\"]):\n",
    "        script.extract()    \n",
    "    a = soup.get_text()\n",
    "    a=\" \".join(a.split())\n",
    "    a=re.sub('[^A-Za-z0-9.]+', ' ', a)\n",
    "    investors.append([i for i in a.split('.') if bool(re.search('investors ',i.lower()))==True])\n",
    "    series.append([i.lower()[i.lower().find('series'):i.lower().find('series')+8] for i in a.split('.') if i.lower().find('series')!=-1])\n",
    "    sector.append([a.split(i)[0].split()[-1].strip()+\" \"+i for i in sector_list if i in a])"
   ]
  },
  {
   "cell_type": "code",
   "execution_count": 18,
   "metadata": {},
   "outputs": [],
   "source": [
    "# Normalize investors and series type features\n",
    "series2=[]\n",
    "def most_frequent(List): \n",
    "    return max(set(List), key = List.count) \n",
    "\n",
    "for i in range(len(investors)):\n",
    "    if(sector[i]==[]):\n",
    "        sector[i]=np.nan\n",
    "    if(investors[i]==[]):\n",
    "        investors[i]=np.nan    \n",
    "\n",
    "for i in series:\n",
    "    try:\n",
    "        series2.append(most_frequent(i))\n",
    "    except:\n",
    "        series2.append(np.nan)"
   ]
  },
  {
   "cell_type": "code",
   "execution_count": 19,
   "metadata": {},
   "outputs": [],
   "source": [
    "# Create DataFrame from scraped features\n",
    "df2=pd.DataFrame(zip(sector,dates,series2,investors,currency,mag,amount),\n",
    "                columns=['Name of Fund','Year Funded','Fund Type','Fund Manager','Currency','Magnitude','Amount of Funding'])"
   ]
  },
  {
   "cell_type": "code",
   "execution_count": 20,
   "metadata": {},
   "outputs": [],
   "source": [
    "# get year from date\n",
    "df2['Year Funded']=df2['Year Funded'].apply(lambda x: x.split(',')[1][:5])\n",
    "# Make values NaN in column \"Fund Type\" if not list allowed_vals\n",
    "allowed_vals=['series b', 'series d', 'series a', 'series c','series e']\n",
    "df2['Fund Type'][~df2['Fund Type'].isin(allowed_vals)] = np.nan\n",
    "# Make values NaN in column \"Magnitude\" if not in list allowed_vals\n",
    "allowed_vals=['Million','Billion','Millions','Billions']\n",
    "df2['Magnitude'][~df2['Magnitude'].isin(allowed_vals)] = np.nan\n",
    "\n",
    "for i in range(df2.shape[0]):\n",
    "    if(is_integer(df2.iloc[i,-1])!=True):\n",
    "        df2.iloc[i,-1]=np.nan"
   ]
  },
  {
   "cell_type": "markdown",
   "metadata": {},
   "source": [
    "## Save Output"
   ]
  },
  {
   "cell_type": "code",
   "execution_count": 21,
   "metadata": {},
   "outputs": [],
   "source": [
    "name='Funding Rounds FierceBiotech-'+str(date.today())+'.xlsx'\n",
    "df2.to_excel(name,index=False)\n",
    "df2=pd.read_excel(name)\n",
    "df2=df2.drop_duplicates()\n",
    "df2.to_excel(name,index=False)\n",
    "driver.close()"
   ]
  },
  {
   "cell_type": "code",
   "execution_count": 22,
   "metadata": {},
   "outputs": [
    {
     "output_type": "execute_result",
     "data": {
      "text/plain": [
       "                                        Name of Fund  Year Funded Fund Type  \\\n",
       "0          ['Featuring  Pharma', 'New  Diagnostics']         2021       NaN   \n",
       "1   ['Featuring  Pharma', 'Elixir  Pharmaceuticals']         2021       NaN   \n",
       "6                              ['Featuring  Pharma']         2021       NaN   \n",
       "9      ['Nirogy  Therapeutics', 'Featuring  Pharma']         2021       NaN   \n",
       "10            ['TScan  Therapeutics', 'Big  Pharma']         2021  series c   \n",
       "\n",
       "                                         Fund Manager Currency Magnitude  \\\n",
       "0                                                 NaN      USD       NaN   \n",
       "1                                                 NaN      USD  Billions   \n",
       "6   [' We brought in this understanding from their...      USD  Millions   \n",
       "9                                                 NaN      USD  Millions   \n",
       "10  [' Register Now Now it s raised a hefty 100 mi...      USD  Millions   \n",
       "\n",
       "    Amount of Funding  \n",
       "0                 NaN  \n",
       "1                 NaN  \n",
       "6                50.0  \n",
       "9                 NaN  \n",
       "10              100.0  "
      ],
      "text/html": "<div>\n<style scoped>\n    .dataframe tbody tr th:only-of-type {\n        vertical-align: middle;\n    }\n\n    .dataframe tbody tr th {\n        vertical-align: top;\n    }\n\n    .dataframe thead th {\n        text-align: right;\n    }\n</style>\n<table border=\"1\" class=\"dataframe\">\n  <thead>\n    <tr style=\"text-align: right;\">\n      <th></th>\n      <th>Name of Fund</th>\n      <th>Year Funded</th>\n      <th>Fund Type</th>\n      <th>Fund Manager</th>\n      <th>Currency</th>\n      <th>Magnitude</th>\n      <th>Amount of Funding</th>\n    </tr>\n  </thead>\n  <tbody>\n    <tr>\n      <th>0</th>\n      <td>['Featuring  Pharma', 'New  Diagnostics']</td>\n      <td>2021</td>\n      <td>NaN</td>\n      <td>NaN</td>\n      <td>USD</td>\n      <td>NaN</td>\n      <td>NaN</td>\n    </tr>\n    <tr>\n      <th>1</th>\n      <td>['Featuring  Pharma', 'Elixir  Pharmaceuticals']</td>\n      <td>2021</td>\n      <td>NaN</td>\n      <td>NaN</td>\n      <td>USD</td>\n      <td>Billions</td>\n      <td>NaN</td>\n    </tr>\n    <tr>\n      <th>6</th>\n      <td>['Featuring  Pharma']</td>\n      <td>2021</td>\n      <td>NaN</td>\n      <td>[' We brought in this understanding from their...</td>\n      <td>USD</td>\n      <td>Millions</td>\n      <td>50.0</td>\n    </tr>\n    <tr>\n      <th>9</th>\n      <td>['Nirogy  Therapeutics', 'Featuring  Pharma']</td>\n      <td>2021</td>\n      <td>NaN</td>\n      <td>NaN</td>\n      <td>USD</td>\n      <td>Millions</td>\n      <td>NaN</td>\n    </tr>\n    <tr>\n      <th>10</th>\n      <td>['TScan  Therapeutics', 'Big  Pharma']</td>\n      <td>2021</td>\n      <td>series c</td>\n      <td>[' Register Now Now it s raised a hefty 100 mi...</td>\n      <td>USD</td>\n      <td>Millions</td>\n      <td>100.0</td>\n    </tr>\n  </tbody>\n</table>\n</div>"
     },
     "metadata": {},
     "execution_count": 22
    }
   ],
   "source": [
    "df2"
   ]
  },
  {
   "cell_type": "code",
   "execution_count": null,
   "metadata": {},
   "outputs": [],
   "source": []
  }
 ],
 "metadata": {
  "kernelspec": {
   "name": "python3",
   "display_name": "Python 3.8.5 64-bit",
   "metadata": {
    "interpreter": {
     "hash": "2db524e06e9f5f4ffedc911c917cb75e12dbc923643829bf417064a77eb14d37"
    }
   }
  },
  "language_info": {
   "codemirror_mode": {
    "name": "ipython",
    "version": 3
   },
   "file_extension": ".py",
   "mimetype": "text/x-python",
   "name": "python",
   "nbconvert_exporter": "python",
   "pygments_lexer": "ipython3",
   "version": "3.8.5-final"
  }
 },
 "nbformat": 4,
 "nbformat_minor": 2
}